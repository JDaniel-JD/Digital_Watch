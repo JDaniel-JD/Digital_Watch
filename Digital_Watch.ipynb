{
  "nbformat": 4,
  "nbformat_minor": 0,
  "metadata": {
    "colab": {
      "name": "Untitled1.ipynb",
      "provenance": []
    },
    "kernelspec": {
      "name": "python3",
      "display_name": "Python 3.8.8 64-bit ('base': conda)"
    },
    "language_info": {
      "name": "python",
      "version": "3.8.8"
    },
    "interpreter": {
      "hash": "13427881f06f13311079f5221e5dd632fdf9146891f6da22d47a93dcb9272d3a"
    }
  },
  "cells": [
    {
      "cell_type": "code",
      "metadata": {
        "colab": {
          "base_uri": "https://localhost:8080/",
          "height": 426
        },
        "id": "bJ_dD2mLRfEi",
        "outputId": "71183d4e-8d9a-47e2-c4db-85de736001fd"
      },
      "source": [
        "from tkinter import *\n",
        "import tkinter\n",
        "from datetime import datetime\n",
        "\n",
        "import pyglet\n",
        "pyglet.font.add_file('digital-7.ttf')\n",
        "\n",
        "cor1 = \"#3d3d3d\"  # preta\n",
        "cor2 = \"#fafcff\"  # branca\n",
        "cor3 = \"#21c25c\"  # verde\n",
        "cor4 = \"#eb463b\"  # vermelha\n",
        "cor5 = \"#dedcdc\"  # cinza\n",
        "cor6 = \"#3080f0\"  # azul\n",
        "\n",
        "fundo = cor1\n",
        "cor = cor3\n",
        "\n",
        "\n",
        "janela = Tk()\n",
        "janela.title(\"\")\n",
        "janela.geometry('320x170')\n",
        "janela.resizable(width=FALSE, height=FALSE)\n",
        "janela.configure(background=fundo)\n",
        "\n",
        "\n",
        "def relogio():\n",
        "    tempo = datetime.now()\n",
        "    hora = tempo.strftime(\"%H:%M:%S\")\n",
        "    dia_semana = tempo.strftime(\"%A\")\n",
        "    dia = tempo.day\n",
        "    mes = tempo.strftime(\"%b\")\n",
        "    ano = tempo.strftime(\"%Y\")\n",
        "\n",
        "    l1.config(text=hora)\n",
        "    l1.after(200, relogio)\n",
        "    l2.config(text=dia_semana + \"   \" + str(dia) +\n",
        "              \"/\" + str(mes) + \"/\" + (ano))\n",
        "\n",
        "\n",
        "l1 = Label(janela, text=\"10:05:05\", font=('digital-7  80'), bg=fundo, fg=cor)\n",
        "l1.grid(row=0, column=0, sticky=NW, padx=5)\n",
        "l2 = Label(janela,  font=('digital-7  20'), bg=fundo, fg=cor)\n",
        "l2.grid(row=1, column=0, sticky=NW, padx=5)\n",
        "\n",
        "\n",
        "# executando\n",
        "relogio()\n",
        "janela.mainloop()"
      ],
      "execution_count": 8,
      "outputs": []
    }
  ]
}